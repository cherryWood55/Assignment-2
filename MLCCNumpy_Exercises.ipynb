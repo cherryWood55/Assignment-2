{
  "nbformat": 4,
  "nbformat_minor": 0,
  "metadata": {
    "colab": {
      "name": "MLCCNumpy_Exercises.ipynb",
      "provenance": [],
      "include_colab_link": true
    },
    "kernelspec": {
      "name": "python3",
      "display_name": "Python 3"
    }
  },
  "cells": [
    {
      "cell_type": "markdown",
      "metadata": {
        "id": "view-in-github",
        "colab_type": "text"
      },
      "source": [
        "<a href=\"https://colab.research.google.com/github/cherryWood55/Assignment-2/blob/master/MLCCNumpy_Exercises.ipynb\" target=\"_parent\"><img src=\"https://colab.research.google.com/assets/colab-badge.svg\" alt=\"Open In Colab\"/></a>"
      ]
    },
    {
      "cell_type": "markdown",
      "metadata": {
        "id": "a_4UupTr9fbX",
        "colab_type": "text"
      },
      "source": [
        "# Numpy Exercises\n",
        "\n",
        "1) Create a uniform subdivision of the interval -1.3 to 2.5 with 64 subdivisions"
      ]
    },
    {
      "cell_type": "code",
      "metadata": {
        "id": "LIP5u4zi0Nmg",
        "colab_type": "code",
        "colab": {
          "base_uri": "https://localhost:8080/",
          "height": 219
        },
        "outputId": "d6433f7a-6cf1-4283-e62b-f14cedfc97fe"
      },
      "source": [
        "import numpy as np #import numpy\n",
        "a = np.linspace(-1.3, 2.5, num = 64)\n",
        "print (a)"
      ],
      "execution_count": 27,
      "outputs": [
        {
          "output_type": "stream",
          "text": [
            "[-1.3        -1.23968254 -1.17936508 -1.11904762 -1.05873016 -0.9984127\n",
            " -0.93809524 -0.87777778 -0.81746032 -0.75714286 -0.6968254  -0.63650794\n",
            " -0.57619048 -0.51587302 -0.45555556 -0.3952381  -0.33492063 -0.27460317\n",
            " -0.21428571 -0.15396825 -0.09365079 -0.03333333  0.02698413  0.08730159\n",
            "  0.14761905  0.20793651  0.26825397  0.32857143  0.38888889  0.44920635\n",
            "  0.50952381  0.56984127  0.63015873  0.69047619  0.75079365  0.81111111\n",
            "  0.87142857  0.93174603  0.99206349  1.05238095  1.11269841  1.17301587\n",
            "  1.23333333  1.29365079  1.35396825  1.41428571  1.47460317  1.53492063\n",
            "  1.5952381   1.65555556  1.71587302  1.77619048  1.83650794  1.8968254\n",
            "  1.95714286  2.01746032  2.07777778  2.13809524  2.1984127   2.25873016\n",
            "  2.31904762  2.37936508  2.43968254  2.5       ]\n"
          ],
          "name": "stdout"
        }
      ]
    },
    {
      "cell_type": "markdown",
      "metadata": {
        "id": "dBoH_A7M9jjL",
        "colab_type": "text"
      },
      "source": [
        "2) Generate an array of length 3n filled with the cyclic pattern 1, 2, 3"
      ]
    },
    {
      "cell_type": "markdown",
      "metadata": {
        "id": "dh0qr5tr1BuJ",
        "colab_type": "text"
      },
      "source": [
        "`np.resize(array_name, num) ` gives you a cyclic pattern of the array repeated 'num' times"
      ]
    },
    {
      "cell_type": "code",
      "metadata": {
        "id": "4TxT66309n1o",
        "colab_type": "code",
        "colab": {
          "base_uri": "https://localhost:8080/",
          "height": 54
        },
        "outputId": "2b62ac10-25db-4f8f-cf83-dcf4a7fdb701"
      },
      "source": [
        "n = int(input())\n",
        "b = np.array([1,2,3])\n",
        "b_modified = np.resize(b, 3*n)\n",
        "print (b_modified)"
      ],
      "execution_count": 6,
      "outputs": [
        {
          "output_type": "stream",
          "text": [
            "4\n",
            "[1 2 3 1 2 3 1 2 3 1 2 3]\n"
          ],
          "name": "stdout"
        }
      ]
    },
    {
      "cell_type": "markdown",
      "metadata": {
        "id": "Vh-UKizx9oTp",
        "colab_type": "text"
      },
      "source": [
        "3) Create an array of the first 10 odd integers."
      ]
    },
    {
      "cell_type": "markdown",
      "metadata": {
        "id": "h082Q11b1Ubo",
        "colab_type": "text"
      },
      "source": [
        "`np.arange(start, stop, step)` takes an optional argument which increments start by that step and ends just before stop"
      ]
    },
    {
      "cell_type": "code",
      "metadata": {
        "id": "ebhEUZq29r32",
        "colab_type": "code",
        "colab": {
          "base_uri": "https://localhost:8080/",
          "height": 35
        },
        "outputId": "b42aed3d-01a2-4de1-d823-94d5417c29d9"
      },
      "source": [
        "c = np.arange(1,20,2)\n",
        "print (c)"
      ],
      "execution_count": 5,
      "outputs": [
        {
          "output_type": "stream",
          "text": [
            "[ 1  3  5  7  9 11 13 15 17 19]\n"
          ],
          "name": "stdout"
        }
      ]
    },
    {
      "cell_type": "markdown",
      "metadata": {
        "id": "QfJRdMat90f4",
        "colab_type": "text"
      },
      "source": [
        "4) Find intersection of a and b"
      ]
    },
    {
      "cell_type": "markdown",
      "metadata": {
        "id": "kK1cjnva1oVt",
        "colab_type": "text"
      },
      "source": [
        "`np.intersect1d(a,b)` gives the unique and common values between two arrays a and b"
      ]
    },
    {
      "cell_type": "code",
      "metadata": {
        "id": "gOlfuJCo-JwF",
        "colab_type": "code",
        "colab": {
          "base_uri": "https://localhost:8080/",
          "height": 35
        },
        "outputId": "76ecd779-8b94-4019-cb63-8c41241c231e"
      },
      "source": [
        "#expected output array([2, 4])\n",
        "a = np.array([1,2,3,2,3,4,3,4,5,6])\n",
        "b = np.array([7,2,10,2,7,4,9,4,9,8])\n",
        "res = np.intersect1d(a, b)\n",
        "print (res)"
      ],
      "execution_count": 8,
      "outputs": [
        {
          "output_type": "stream",
          "text": [
            "[2 4]\n"
          ],
          "name": "stdout"
        }
      ]
    },
    {
      "cell_type": "markdown",
      "metadata": {
        "id": "RtVCf0UoCeB8",
        "colab_type": "text"
      },
      "source": [
        "5) Reshape 1d array a to 2d array of 2X5"
      ]
    },
    {
      "cell_type": "markdown",
      "metadata": {
        "id": "YX3k3vu314In",
        "colab_type": "text"
      },
      "source": [
        "np.reshape(array_name, (shape)) takes two arguments -  an array to which the operation is to be performed and the shape to which the array will be shaped"
      ]
    },
    {
      "cell_type": "code",
      "metadata": {
        "id": "2E8b55_2Cjx5",
        "colab_type": "code",
        "colab": {
          "base_uri": "https://localhost:8080/",
          "height": 54
        },
        "outputId": "de9a2e17-7783-4201-ad3e-6a9473843055"
      },
      "source": [
        "a = np.arange(10)\n",
        "a_modified = np.reshape(a,(2,5))\n",
        "print (a_modified)"
      ],
      "execution_count": 12,
      "outputs": [
        {
          "output_type": "stream",
          "text": [
            "[[0 1 2 3 4]\n",
            " [5 6 7 8 9]]\n"
          ],
          "name": "stdout"
        }
      ]
    },
    {
      "cell_type": "markdown",
      "metadata": {
        "id": "dVrSBW1zEjp2",
        "colab_type": "text"
      },
      "source": [
        "6) Create a numpy array to list and vice versa"
      ]
    },
    {
      "cell_type": "markdown",
      "metadata": {
        "id": "1fD-ZFWW2ecQ",
        "colab_type": "text"
      },
      "source": [
        "np.asarray(list_argument) converts a list to a numpy array"
      ]
    },
    {
      "cell_type": "code",
      "metadata": {
        "id": "tcBCyhXPEp9C",
        "colab_type": "code",
        "colab": {
          "base_uri": "https://localhost:8080/",
          "height": 54
        },
        "outputId": "7dc649d7-4ef1-45e4-9c9f-c61491287dcd"
      },
      "source": [
        "#Convert list to numpy array\n",
        "list1 = [1, 2, 3, 4, 5, 6, 7, 8, 9]\n",
        "array1 = np.asarray(list1)\n",
        "print (array1)\n",
        "print (type(array1))"
      ],
      "execution_count": 15,
      "outputs": [
        {
          "output_type": "stream",
          "text": [
            "[1 2 3 4 5 6 7 8 9]\n",
            "<class 'numpy.ndarray'>\n"
          ],
          "name": "stdout"
        }
      ]
    },
    {
      "cell_type": "markdown",
      "metadata": {
        "id": "nc7niBNV2nPO",
        "colab_type": "text"
      },
      "source": [
        "np.ndarray.tolist(array_argument) converts a numpy array to a list"
      ]
    },
    {
      "cell_type": "code",
      "metadata": {
        "id": "9LbGdz30xWXq",
        "colab_type": "code",
        "colab": {
          "base_uri": "https://localhost:8080/",
          "height": 54
        },
        "outputId": "0ec0d836-edc8-4fb7-d26c-b4a2f8affeb6"
      },
      "source": [
        "#Convert numpy array to list\n",
        "list2  = np.ndarray.tolist(array1)\n",
        "print (list2)\n",
        "print (type(list2))"
      ],
      "execution_count": 18,
      "outputs": [
        {
          "output_type": "stream",
          "text": [
            "[1, 2, 3, 4, 5, 6, 7, 8, 9]\n",
            "<class 'list'>\n"
          ],
          "name": "stdout"
        }
      ]
    },
    {
      "cell_type": "markdown",
      "metadata": {
        "id": "JNqX8wnz9sQJ",
        "colab_type": "text"
      },
      "source": [
        "7) Create a 10 x 10 arrays of zeros and then \"frame\" it with a border of ones."
      ]
    },
    {
      "cell_type": "markdown",
      "metadata": {
        "id": "Zp0R4o7a2uEX",
        "colab_type": "text"
      },
      "source": [
        "np.pad(array_name, pad_width = depth_of_the_border, mode='constant', constant_values = fill_value) \n",
        "gives a border or a pad around an array of depth equal to pad_width filled with values equal to constant_values"
      ]
    },
    {
      "cell_type": "code",
      "metadata": {
        "id": "4bjP3JAc9vRD",
        "colab_type": "code",
        "colab": {
          "base_uri": "https://localhost:8080/",
          "height": 237
        },
        "outputId": "bb60209d-bc42-418d-8e78-b035d0d58db4"
      },
      "source": [
        "a = np.zeros(shape=(10,10), dtype='int')\n",
        "a = np.pad(a, pad_width=1, mode='constant', constant_values=1)\n",
        "print (a)"
      ],
      "execution_count": 36,
      "outputs": [
        {
          "output_type": "stream",
          "text": [
            "[[1 1 1 1 1 1 1 1 1 1 1 1]\n",
            " [1 0 0 0 0 0 0 0 0 0 0 1]\n",
            " [1 0 0 0 0 0 0 0 0 0 0 1]\n",
            " [1 0 0 0 0 0 0 0 0 0 0 1]\n",
            " [1 0 0 0 0 0 0 0 0 0 0 1]\n",
            " [1 0 0 0 0 0 0 0 0 0 0 1]\n",
            " [1 0 0 0 0 0 0 0 0 0 0 1]\n",
            " [1 0 0 0 0 0 0 0 0 0 0 1]\n",
            " [1 0 0 0 0 0 0 0 0 0 0 1]\n",
            " [1 0 0 0 0 0 0 0 0 0 0 1]\n",
            " [1 0 0 0 0 0 0 0 0 0 0 1]\n",
            " [1 1 1 1 1 1 1 1 1 1 1 1]]\n"
          ],
          "name": "stdout"
        }
      ]
    },
    {
      "cell_type": "markdown",
      "metadata": {
        "id": "xaQgf8tT9v-n",
        "colab_type": "text"
      },
      "source": [
        "8) Create an 8 x 8 array with a checkerboard pattern of zeros and ones using a slicing+striding approach."
      ]
    },
    {
      "cell_type": "markdown",
      "metadata": {
        "id": "PgwxxvEW3MLz",
        "colab_type": "text"
      },
      "source": [
        "a[start:stop] denotes a slice of the array a\n",
        "it can take a third optional argument which denotes the step with which it elements are chosen from the array\n",
        "a[start:stop:stride] starts taking values from 'start' till 'stop',moving forward by 'stride' steps"
      ]
    },
    {
      "cell_type": "code",
      "metadata": {
        "id": "No7fx0Xy9zEh",
        "colab_type": "code",
        "colab": {
          "base_uri": "https://localhost:8080/",
          "height": 164
        },
        "outputId": "cbb47b58-fc62-4784-cefe-f50f6a4fd3cb"
      },
      "source": [
        "a = np.zeros(shape = (8,8))\n",
        "a[1::2, ::2] = 1\n",
        "a[::2, 1::2] = 1\n",
        "print (a)"
      ],
      "execution_count": 34,
      "outputs": [
        {
          "output_type": "stream",
          "text": [
            "[[0. 1. 0. 1. 0. 1. 0. 1.]\n",
            " [1. 0. 1. 0. 1. 0. 1. 0.]\n",
            " [0. 1. 0. 1. 0. 1. 0. 1.]\n",
            " [1. 0. 1. 0. 1. 0. 1. 0.]\n",
            " [0. 1. 0. 1. 0. 1. 0. 1.]\n",
            " [1. 0. 1. 0. 1. 0. 1. 0.]\n",
            " [0. 1. 0. 1. 0. 1. 0. 1.]\n",
            " [1. 0. 1. 0. 1. 0. 1. 0.]]\n"
          ],
          "name": "stdout"
        }
      ]
    }
  ]
}