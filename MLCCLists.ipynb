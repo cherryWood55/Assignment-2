{
  "nbformat": 4,
  "nbformat_minor": 0,
  "metadata": {
    "colab": {
      "name": "MLCCLists.ipynb",
      "provenance": [],
      "include_colab_link": true
    },
    "kernelspec": {
      "name": "python3",
      "display_name": "Python 3"
    }
  },
  "cells": [
    {
      "cell_type": "markdown",
      "metadata": {
        "id": "view-in-github",
        "colab_type": "text"
      },
      "source": [
        "<a href=\"https://colab.research.google.com/github/cherryWood55/Assignment-2/blob/master/MLCCLists.ipynb\" target=\"_parent\"><img src=\"https://colab.research.google.com/assets/colab-badge.svg\" alt=\"Open In Colab\"/></a>"
      ]
    },
    {
      "cell_type": "markdown",
      "metadata": {
        "id": "e0R1W0Vzm4UU",
        "colab_type": "text"
      },
      "source": [
        "# Exercise - List"
      ]
    },
    {
      "cell_type": "markdown",
      "metadata": {
        "id": "TrO7XNQnnQZ7",
        "colab_type": "text"
      },
      "source": [
        "1) Create  any random list and assign it to a variable dummy_list"
      ]
    },
    {
      "cell_type": "code",
      "metadata": {
        "id": "bjl-2QkznWid",
        "colab_type": "code",
        "colab": {}
      },
      "source": [
        "dummy_list = [12, 4, 8.47, 10.02, 12.02]"
      ],
      "execution_count": 0,
      "outputs": []
    },
    {
      "cell_type": "markdown",
      "metadata": {
        "id": "cDjddNGfngnp",
        "colab_type": "text"
      },
      "source": [
        "2) print dummy_list"
      ]
    },
    {
      "cell_type": "code",
      "metadata": {
        "id": "RVL5178inz9M",
        "colab_type": "code",
        "colab": {
          "base_uri": "https://localhost:8080/",
          "height": 35
        },
        "outputId": "7eb529a0-d63a-4c3a-99cb-5d47be81ff02"
      },
      "source": [
        "print (dummy_list)"
      ],
      "execution_count": 15,
      "outputs": [
        {
          "output_type": "stream",
          "text": [
            "[12, 4, 8.47, 10.02, 12.02]\n"
          ],
          "name": "stdout"
        }
      ]
    },
    {
      "cell_type": "markdown",
      "metadata": {
        "id": "15jKDXxkn16M",
        "colab_type": "text"
      },
      "source": [
        "3) Reverse dummy_list and print"
      ]
    },
    {
      "cell_type": "code",
      "metadata": {
        "id": "bYa9gFOOn-4o",
        "colab_type": "code",
        "colab": {
          "base_uri": "https://localhost:8080/",
          "height": 35
        },
        "outputId": "84234a01-f338-4d94-a71f-d1993e41d6c2"
      },
      "source": [
        "dummy_list = dummy_list[::-1]\n",
        "print (dummy_list[::-1])"
      ],
      "execution_count": 16,
      "outputs": [
        {
          "output_type": "stream",
          "text": [
            "[12.02, 10.02, 8.47, 4, 12]\n"
          ],
          "name": "stdout"
        }
      ]
    },
    {
      "cell_type": "markdown",
      "metadata": {
        "id": "EShv0nfXpUys",
        "colab_type": "text"
      },
      "source": [
        "4) Add the list dummy_list_2 to the previous dummy_list and now print dummy_list"
      ]
    },
    {
      "cell_type": "code",
      "metadata": {
        "id": "Ngkc7hnYphg6",
        "colab_type": "code",
        "colab": {
          "base_uri": "https://localhost:8080/",
          "height": 35
        },
        "outputId": "6f8ff7ca-8051-49ae-95a4-4168af3205e1"
      },
      "source": [
        "dummy_list_2 = [2, 200, 16, 4, 1, 0, 9.45, 45.67, 90, 12.01, 12.02]\n",
        "dummy_list = dummy_list + dummy_list_2\n",
        "print (dummy_list)"
      ],
      "execution_count": 17,
      "outputs": [
        {
          "output_type": "stream",
          "text": [
            "[12, 4, 8.47, 10.02, 12.02, 2, 200, 16, 4, 1, 0, 9.45, 45.67, 90, 12.01, 12.02]\n"
          ],
          "name": "stdout"
        }
      ]
    },
    {
      "cell_type": "markdown",
      "metadata": {
        "id": "Le1aRTuYoDzS",
        "colab_type": "text"
      },
      "source": [
        "5) Create a dictionary named dummy_dict which contains all the elements of dummy_list as keys and frequency as values. "
      ]
    },
    {
      "cell_type": "code",
      "metadata": {
        "id": "VHfSR_Csthnk",
        "colab_type": "code",
        "colab": {}
      },
      "source": [
        "dummy_dict = dict()\n",
        "for item in dummy_list:\n",
        "  dummy_dict[item] = dummy_list.count(item) #use the built in count function to count the frequency of items in the list"
      ],
      "execution_count": 0,
      "outputs": []
    },
    {
      "cell_type": "markdown",
      "metadata": {
        "id": "RgCYpFXGou6q",
        "colab_type": "text"
      },
      "source": [
        "6) print dummy_dict"
      ]
    },
    {
      "cell_type": "code",
      "metadata": {
        "id": "qe5E5IgxpTWU",
        "colab_type": "code",
        "colab": {
          "base_uri": "https://localhost:8080/",
          "height": 35
        },
        "outputId": "6d27d0b8-a025-430b-9ac5-a1ea507f7ae1"
      },
      "source": [
        "print (dummy_dict)"
      ],
      "execution_count": 19,
      "outputs": [
        {
          "output_type": "stream",
          "text": [
            "{12: 1, 4: 2, 8.47: 1, 10.02: 1, 12.02: 2, 2: 1, 200: 1, 16: 1, 1: 1, 0: 1, 9.45: 1, 45.67: 1, 90: 1, 12.01: 1}\n"
          ],
          "name": "stdout"
        }
      ]
    },
    {
      "cell_type": "markdown",
      "metadata": {
        "id": "8n_nsBDup4--",
        "colab_type": "text"
      },
      "source": [
        "7) Sort dummy_list in ascending order as well as descending order and print the changed lists "
      ]
    },
    {
      "cell_type": "code",
      "metadata": {
        "id": "Z_m7vr26qKnK",
        "colab_type": "code",
        "colab": {
          "base_uri": "https://localhost:8080/",
          "height": 35
        },
        "outputId": "7258e55d-0b05-4bd8-d00d-1b5d49b977fd"
      },
      "source": [
        "#Sort dummy_list in ascending order\n",
        "dummy_list.sort()\n",
        "print (dummy_list)"
      ],
      "execution_count": 20,
      "outputs": [
        {
          "output_type": "stream",
          "text": [
            "[0, 1, 2, 4, 4, 8.47, 9.45, 10.02, 12, 12.01, 12.02, 12.02, 16, 45.67, 90, 200]\n"
          ],
          "name": "stdout"
        }
      ]
    },
    {
      "cell_type": "code",
      "metadata": {
        "id": "h3G3-ULhcOAT",
        "colab_type": "code",
        "colab": {
          "base_uri": "https://localhost:8080/",
          "height": 35
        },
        "outputId": "7a5de15c-feb2-406f-eaae-5314cc2a4963"
      },
      "source": [
        "#Sort dummy_list in descending order\n",
        "dummy_list.sort(reverse = True)\n",
        "print (dummy_list)"
      ],
      "execution_count": 21,
      "outputs": [
        {
          "output_type": "stream",
          "text": [
            "[200, 90, 45.67, 16, 12.02, 12.02, 12.01, 12, 10.02, 9.45, 8.47, 4, 4, 2, 1, 0]\n"
          ],
          "name": "stdout"
        }
      ]
    },
    {
      "cell_type": "markdown",
      "metadata": {
        "id": "Znm5Qo4LqPKA",
        "colab_type": "text"
      },
      "source": [
        "8) Remove the first item from the list whose value is equal to x. It raises a ValueError if there is no such item."
      ]
    },
    {
      "cell_type": "code",
      "metadata": {
        "id": "1-8mlngDqYvS",
        "colab_type": "code",
        "colab": {
          "base_uri": "https://localhost:8080/",
          "height": 35
        },
        "outputId": "41a432fa-26de-4933-895e-56da76baf207"
      },
      "source": [
        "x = 90\n",
        "dummy_list.remove(x)\n",
        "print (dummy_list)"
      ],
      "execution_count": 24,
      "outputs": [
        {
          "output_type": "stream",
          "text": [
            "[45.67, 16, 12.02, 12.02, 12.01, 12, 10.02, 9.45, 8.47, 4, 4, 2, 1, 0]\n"
          ],
          "name": "stdout"
        }
      ]
    },
    {
      "cell_type": "code",
      "metadata": {
        "id": "Zld8xoUDc6PW",
        "colab_type": "code",
        "colab": {
          "base_uri": "https://localhost:8080/",
          "height": 209
        },
        "outputId": "fc85ce41-1df6-4d17-fab0-40c871504853"
      },
      "source": [
        "# Let's play: try the same with something which is not in the list to get the ValueError\n",
        "x = 45\n",
        "dummy_list.remove(x)\n",
        "print (dummy_list)"
      ],
      "execution_count": 25,
      "outputs": [
        {
          "output_type": "error",
          "ename": "ValueError",
          "evalue": "ignored",
          "traceback": [
            "\u001b[0;31m---------------------------------------------------------------------------\u001b[0m",
            "\u001b[0;31mValueError\u001b[0m                                Traceback (most recent call last)",
            "\u001b[0;32m<ipython-input-25-5fd642d45d25>\u001b[0m in \u001b[0;36m<module>\u001b[0;34m()\u001b[0m\n\u001b[1;32m      1\u001b[0m \u001b[0mx\u001b[0m \u001b[0;34m=\u001b[0m \u001b[0;36m45\u001b[0m\u001b[0;34m\u001b[0m\u001b[0;34m\u001b[0m\u001b[0m\n\u001b[0;32m----> 2\u001b[0;31m \u001b[0mdummy_list\u001b[0m\u001b[0;34m.\u001b[0m\u001b[0mremove\u001b[0m\u001b[0;34m(\u001b[0m\u001b[0mx\u001b[0m\u001b[0;34m)\u001b[0m\u001b[0;34m\u001b[0m\u001b[0;34m\u001b[0m\u001b[0m\n\u001b[0m\u001b[1;32m      3\u001b[0m \u001b[0mprint\u001b[0m \u001b[0;34m(\u001b[0m\u001b[0mdummy_list\u001b[0m\u001b[0;34m)\u001b[0m\u001b[0;34m\u001b[0m\u001b[0;34m\u001b[0m\u001b[0m\n",
            "\u001b[0;31mValueError\u001b[0m: list.remove(x): x not in list"
          ]
        }
      ]
    },
    {
      "cell_type": "markdown",
      "metadata": {
        "id": "QPB6iGbeqviN",
        "colab_type": "text"
      },
      "source": [
        "9) Remove the item at position x. x is any random integer"
      ]
    },
    {
      "cell_type": "code",
      "metadata": {
        "id": "OvEZcQSbd9X5",
        "colab_type": "code",
        "colab": {
          "base_uri": "https://localhost:8080/",
          "height": 35
        },
        "outputId": "588281e5-1b89-47cf-f0fa-086e4a23deae"
      },
      "source": [
        "del dummy_list[5]\n",
        "print (dummy_list)"
      ],
      "execution_count": 27,
      "outputs": [
        {
          "output_type": "stream",
          "text": [
            "[45.67, 16, 12.02, 12.02, 12.01, 10.02, 9.45, 8.47, 4, 4, 2, 1, 0]\n"
          ],
          "name": "stdout"
        }
      ]
    },
    {
      "cell_type": "code",
      "metadata": {
        "id": "aMyo1gmRrVHo",
        "colab_type": "code",
        "colab": {
          "base_uri": "https://localhost:8080/",
          "height": 191
        },
        "outputId": "4171b8a9-560c-4bb7-ad07-740ce98136bd"
      },
      "source": [
        "# Let's play: try doing the same with x > len(dummy_list) + 1 and see what you get\n",
        "del dummy_list[12]\n",
        "print (dummy_list)"
      ],
      "execution_count": 32,
      "outputs": [
        {
          "output_type": "error",
          "ename": "IndexError",
          "evalue": "ignored",
          "traceback": [
            "\u001b[0;31m---------------------------------------------------------------------------\u001b[0m",
            "\u001b[0;31mIndexError\u001b[0m                                Traceback (most recent call last)",
            "\u001b[0;32m<ipython-input-32-183ae8026e68>\u001b[0m in \u001b[0;36m<module>\u001b[0;34m()\u001b[0m\n\u001b[0;32m----> 1\u001b[0;31m \u001b[0;32mdel\u001b[0m \u001b[0mdummy_list\u001b[0m\u001b[0;34m[\u001b[0m\u001b[0;36m12\u001b[0m\u001b[0;34m]\u001b[0m\u001b[0;34m\u001b[0m\u001b[0;34m\u001b[0m\u001b[0m\n\u001b[0m\u001b[1;32m      2\u001b[0m \u001b[0mprint\u001b[0m \u001b[0;34m(\u001b[0m\u001b[0mdummy_list\u001b[0m\u001b[0;34m)\u001b[0m\u001b[0;34m\u001b[0m\u001b[0;34m\u001b[0m\u001b[0m\n",
            "\u001b[0;31mIndexError\u001b[0m: list assignment index out of range"
          ]
        }
      ]
    },
    {
      "cell_type": "markdown",
      "metadata": {
        "id": "bqQnnsr8rm6G",
        "colab_type": "text"
      },
      "source": [
        "10) Let's clean everything clear the list and then print"
      ]
    },
    {
      "cell_type": "code",
      "metadata": {
        "id": "qBC8lKpLrtJW",
        "colab_type": "code",
        "colab": {
          "base_uri": "https://localhost:8080/",
          "height": 35
        },
        "outputId": "6359a54b-4da6-4007-d9f8-2aadda754ab0"
      },
      "source": [
        "dummy_list.clear()\n",
        "print (dummy_list)"
      ],
      "execution_count": 31,
      "outputs": [
        {
          "output_type": "stream",
          "text": [
            "[]\n"
          ],
          "name": "stdout"
        }
      ]
    }
  ]
}